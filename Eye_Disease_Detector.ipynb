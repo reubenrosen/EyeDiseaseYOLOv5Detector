{
  "cells": [
    {
      "cell_type": "markdown",
      "metadata": {
        "id": "view-in-github",
        "colab_type": "text"
      },
      "source": [
        "<a href=\"https://colab.research.google.com/github/reubenrosen/EyeDiseaseYOLOv5Detector/blob/main/Eye_Disease_Detector.ipynb\" target=\"_parent\"><img src=\"https://colab.research.google.com/assets/colab-badge.svg\" alt=\"Open In Colab\"/></a>"
      ]
    },
    {
      "cell_type": "code",
      "execution_count": null,
      "id": "c3727c5f",
      "metadata": {
        "id": "c3727c5f"
      },
      "outputs": [],
      "source": [
        "#!python -m pip install --upgrade pip\n",
        "\n",
        "#!pip install tensorflow==2.3.1\n",
        "\n",
        "!pip install tensorboard\n",
        "!pip install torch"
      ]
    },
    {
      "cell_type": "code",
      "execution_count": null,
      "id": "19787a2f",
      "metadata": {
        "id": "19787a2f"
      },
      "outputs": [],
      "source": [
        "import torch # YOLOv5 implemented using pytorch"
      ]
    },
    {
      "cell_type": "code",
      "execution_count": null,
      "id": "1800573e",
      "metadata": {
        "id": "1800573e"
      },
      "outputs": [],
      "source": [
        "%cd yolov5"
      ]
    },
    {
      "cell_type": "code",
      "execution_count": null,
      "id": "8940e499",
      "metadata": {
        "id": "8940e499"
      },
      "outputs": [],
      "source": [
        "!pip install -r requirements.txt"
      ]
    },
    {
      "cell_type": "code",
      "execution_count": null,
      "id": "57ed7c84",
      "metadata": {
        "id": "57ed7c84"
      },
      "outputs": [],
      "source": [
        "from IPython.display import Image #this is to render predictions"
      ]
    },
    {
      "cell_type": "code",
      "execution_count": null,
      "id": "6192f7df",
      "metadata": {
        "id": "6192f7df",
        "outputId": "b49e76fd-d418-4331-f1ac-e33ed18dd3d2"
      },
      "outputs": [
        {
          "name": "stdout",
          "output_type": "stream",
          "text": [
            "training images are :  404\n",
            "Validation images are :  101\n"
          ]
        }
      ],
      "source": [
        "import os\n",
        "from random import choice\n",
        "import shutil\n",
        "\n",
        "imgs =[]\n",
        "xmls =[]\n",
        "\n",
        "#setup dir names\n",
        "trainPath = 'C:/Users/reube/Desktop/eye/Formatted Dataset/images/train'\n",
        "valPath = 'C:/Users/reube/Desktop/eye/Formatted Dataset/images/train/val'\n",
        "crsPath = 'C:/Users/reube/Desktop/eye/Formatted Dataset/' #dir where images and annotations stored\n",
        "\n",
        "#setup ratio (val ratio = rest of the files in origin dir after splitting into train and test)\n",
        "train_ratio = 0.8\n",
        "val_ratio = 0.2\n",
        "\n",
        "\n",
        "#total count of imgs\n",
        "totalImgCount = len(os.listdir(crsPath))/2\n",
        "\n",
        "#soring files to corresponding arrays\n",
        "for (dirname, dirs, files) in os.walk(crsPath):\n",
        "    for filename in files:\n",
        "        if filename.endswith('.txt'):\n",
        "            xmls.append(filename)\n",
        "        else:\n",
        "            imgs.append(filename)\n",
        "\n",
        "\n",
        "#counting range for cycles\n",
        "countForTrain = int(len(imgs)*train_ratio)\n",
        "countForVal = int(len(imgs)*val_ratio)\n",
        "print(\"training images are : \",countForTrain)\n",
        "print(\"Validation images are : \",countForVal)"
      ]
    },
    {
      "cell_type": "code",
      "execution_count": null,
      "id": "c743477d",
      "metadata": {
        "id": "c743477d"
      },
      "outputs": [],
      "source": [
        "!python train.py --img 2 --batch 16 --epochs 30 --coco128.yaml --weights yolov5s.pt --cache"
      ]
    },
    {
      "cell_type": "code",
      "execution_count": null,
      "id": "15b82103",
      "metadata": {
        "id": "15b82103"
      },
      "outputs": [],
      "source": []
    }
  ],
  "metadata": {
    "kernelspec": {
      "display_name": "Python 3 (ipykernel)",
      "language": "python",
      "name": "python3"
    },
    "language_info": {
      "codemirror_mode": {
        "name": "ipython",
        "version": 3
      },
      "file_extension": ".py",
      "mimetype": "text/x-python",
      "name": "python",
      "nbconvert_exporter": "python",
      "pygments_lexer": "ipython3",
      "version": "3.7.13"
    },
    "colab": {
      "provenance": [],
      "include_colab_link": true
    }
  },
  "nbformat": 4,
  "nbformat_minor": 5
}